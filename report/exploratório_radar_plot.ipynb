{
 "cells": [
  {
   "cell_type": "markdown",
   "id": "b82f13c3",
   "metadata": {},
   "source": [
    "Notebook exploratório para a chegar à visualização do radar plot proposta.\n",
    "\n",
    "Resumo:\n",
    "1. Crawling de dados\n",
    "2. Visualização com base nos códigos da biblioteca de futebol\n",
    "3. Crítica da visualização\n",
    "3. Visualização melhorada"
   ]
  },
  {
   "cell_type": "markdown",
   "id": "56683ca1",
   "metadata": {},
   "source": [
    "Inicialmente precisei fazer um crawler dos dados, visto que as informações que eu precisava do site: https://fbref.com/en/comps/24/Serie-A-Stats não estavam disponibilizadas em um arquivo csv. Para isso, utilizei um tutorial do médiun que me ajudou a entender como fazer o crawler. O tutorial pode ser encontrado em: https://medium.com/@ricardoandreom/how-to-scrape-and-personalize-data-from-fbref-with-python-a-guide-to-unlocking-football-insights-7e623607afca"
   ]
  },
  {
   "cell_type": "markdown",
   "id": "222ffba5",
   "metadata": {},
   "source": [
    "No entanto, não funcionou como o esperado, já que o site tinha uma disponibilização diferente para os dados da séria A brasileira. Então com algumas modificações no craweler e extraindo apenas o necessário da página html, consegui obter os dados que eu precisava."
   ]
  },
  {
   "cell_type": "code",
   "execution_count": 1,
   "id": "4a44ce06",
   "metadata": {},
   "outputs": [
    {
     "data": {
      "text/plain": [
       "[    Unnamed: 0_level_0 Unnamed: 1_level_0 Unnamed: 2_level_0  \\\n",
       "                 Class.            Jogador              Nação   \n",
       " 0                    1    Nicolás Acevedo             uy URU   \n",
       " 1                    2       Luiz Adriano             br BRA   \n",
       " 2                    3             Adriel             br BRA   \n",
       " 3                    4          Adryelson             br BRA   \n",
       " 4                    5              Adson             br BRA   \n",
       " ..                 ...                ...                ...   \n",
       " 777                749  Vinícius Zanocelo             br BRA   \n",
       " 778                750      Bruno Zapelli             ar ARG   \n",
       " 779             Class.            Jogador              Nação   \n",
       " 780                751   Federico Zaracho             ar ARG   \n",
       " 781                752              Zinho             br BRA   \n",
       " \n",
       "     Unnamed: 3_level_0 Unnamed: 4_level_0 Unnamed: 5_level_0  \\\n",
       "                   Pos.             Equipe              Idade   \n",
       " 0                   LT              Bahia                 23   \n",
       " 1                   AT      Internacional                 35   \n",
       " 2                    G             Grêmio                 22   \n",
       " 3                   ZG      Botafogo (RJ)                 24   \n",
       " 4                AT.LT        Corinthians                 22   \n",
       " ..                 ...                ...                ...   \n",
       " 777              LT.AT          Fortaleza                 22   \n",
       " 778              LT.AT     Ath Paranaense                 20   \n",
       " 779               Pos.             Equipe              Idade   \n",
       " 780              LT.AT   Atlético Mineiro                 24   \n",
       " 781              AT.LT             Grêmio                 19   \n",
       " \n",
       "     Unnamed: 6_level_0 Tempo de jogo                  ... A cada 90 minutos  \\\n",
       "             Nascimento            MP  Inícios   Min.  ...            Assis.   \n",
       " 0                 1999            31       21  1.970  ...              0.00   \n",
       " 1                 1987            29       17  1.330  ...              0.07   \n",
       " 2                 2001             2        2    180  ...              0.00   \n",
       " 3                 1998            35       35  2.996  ...              0.03   \n",
       " 4                 2000            15        9    857  ...              0.11   \n",
       " ..                 ...           ...      ...    ...  ...               ...   \n",
       " 777               2001             6        0     81  ...              0.00   \n",
       " 778               2002            21       13  1.143  ...              0.16   \n",
       " 779         Nascimento            MP  Inícios   Min.  ...            Assis.   \n",
       " 780               1998            27       22  1.947  ...              0.05   \n",
       " 781               2003             7        1    244  ...              0.37   \n",
       " \n",
       "                                                              \\\n",
       "       G+A  G-PB  G+A-PB    xG   xAG  xG+xAG  npxG  npxG+xAG   \n",
       " 0    0.00  0.00    0.00  0.04  0.05    0.10  0.04      0.10   \n",
       " 1    0.27  0.20    0.27  0.18  0.09    0.27  0.18      0.27   \n",
       " 2    0.00  0.00    0.00  0.00  0.00    0.00  0.00      0.00   \n",
       " 3    0.06  0.03    0.06  0.03  0.01    0.04  0.03      0.04   \n",
       " 4    0.11  0.00    0.11  0.04  0.11    0.15  0.04      0.15   \n",
       " ..    ...   ...     ...   ...   ...     ...   ...       ...   \n",
       " 777  0.00  0.00    0.00  0.34  0.00    0.34  0.34      0.34   \n",
       " 778  0.31  0.16    0.31  0.19  0.14    0.34  0.19      0.34   \n",
       " 779   G+A  G-PB  G+A-PB    xG   xAG  xG+xAG  npxG  npxG+xAG   \n",
       " 780  0.14  0.09    0.14  0.14  0.08    0.22  0.14      0.22   \n",
       " 781  0.37  0.00    0.37  0.08  0.20    0.28  0.08      0.28   \n",
       " \n",
       "     Unnamed: 36_level_0  \n",
       "                Partidas  \n",
       " 0              Partidas  \n",
       " 1              Partidas  \n",
       " 2              Partidas  \n",
       " 3              Partidas  \n",
       " 4              Partidas  \n",
       " ..                  ...  \n",
       " 777            Partidas  \n",
       " 778            Partidas  \n",
       " 779            Partidas  \n",
       " 780            Partidas  \n",
       " 781            Partidas  \n",
       " \n",
       " [782 rows x 37 columns]]"
      ]
     },
     "execution_count": 1,
     "metadata": {},
     "output_type": "execute_result"
    }
   ],
   "source": [
    "# código do crawler\n",
    "# não importei o html visto que o arquivo seria não legível\n",
    "\n",
    "# libraries\n",
    "import pandas as pd\n",
    "\n",
    "# fbref table link\n",
    "url_df = '/home/surtas/Área de Trabalho/html.html'\n",
    "\n",
    "#enconding é necessário para que o arquivo seja lido corretamente\n",
    "df = pd.read_html(url_df, encoding='utf-8')\n",
    "df"
   ]
  },
  {
   "cell_type": "code",
   "execution_count": 2,
   "id": "dc550226-72eb-42b2-90f0-be35ec0cef6f",
   "metadata": {},
   "outputs": [
    {
     "data": {
      "text/html": [
       "<div>\n",
       "<style scoped>\n",
       "    .dataframe tbody tr th:only-of-type {\n",
       "        vertical-align: middle;\n",
       "    }\n",
       "\n",
       "    .dataframe tbody tr th {\n",
       "        vertical-align: top;\n",
       "    }\n",
       "\n",
       "    .dataframe thead tr th {\n",
       "        text-align: left;\n",
       "    }\n",
       "</style>\n",
       "<table border=\"1\" class=\"dataframe\">\n",
       "  <thead>\n",
       "    <tr>\n",
       "      <th></th>\n",
       "      <th>Unnamed: 0_level_0</th>\n",
       "      <th>Unnamed: 1_level_0</th>\n",
       "      <th>Unnamed: 2_level_0</th>\n",
       "      <th>Unnamed: 3_level_0</th>\n",
       "      <th>Unnamed: 4_level_0</th>\n",
       "      <th>Unnamed: 5_level_0</th>\n",
       "      <th>Unnamed: 6_level_0</th>\n",
       "      <th colspan=\"3\" halign=\"left\">Tempo de jogo</th>\n",
       "      <th>...</th>\n",
       "      <th colspan=\"9\" halign=\"left\">A cada 90 minutos</th>\n",
       "      <th>Unnamed: 36_level_0</th>\n",
       "    </tr>\n",
       "    <tr>\n",
       "      <th></th>\n",
       "      <th>Class.</th>\n",
       "      <th>Jogador</th>\n",
       "      <th>Nação</th>\n",
       "      <th>Pos.</th>\n",
       "      <th>Equipe</th>\n",
       "      <th>Idade</th>\n",
       "      <th>Nascimento</th>\n",
       "      <th>MP</th>\n",
       "      <th>Inícios</th>\n",
       "      <th>Min.</th>\n",
       "      <th>...</th>\n",
       "      <th>Assis.</th>\n",
       "      <th>G+A</th>\n",
       "      <th>G-PB</th>\n",
       "      <th>G+A-PB</th>\n",
       "      <th>xG</th>\n",
       "      <th>xAG</th>\n",
       "      <th>xG+xAG</th>\n",
       "      <th>npxG</th>\n",
       "      <th>npxG+xAG</th>\n",
       "      <th>Partidas</th>\n",
       "    </tr>\n",
       "  </thead>\n",
       "  <tbody>\n",
       "    <tr>\n",
       "      <th>0</th>\n",
       "      <td>1</td>\n",
       "      <td>Nicolás Acevedo</td>\n",
       "      <td>uy URU</td>\n",
       "      <td>LT</td>\n",
       "      <td>Bahia</td>\n",
       "      <td>23</td>\n",
       "      <td>1999</td>\n",
       "      <td>31</td>\n",
       "      <td>21</td>\n",
       "      <td>1.970</td>\n",
       "      <td>...</td>\n",
       "      <td>0.00</td>\n",
       "      <td>0.00</td>\n",
       "      <td>0.00</td>\n",
       "      <td>0.00</td>\n",
       "      <td>0.04</td>\n",
       "      <td>0.05</td>\n",
       "      <td>0.10</td>\n",
       "      <td>0.04</td>\n",
       "      <td>0.10</td>\n",
       "      <td>Partidas</td>\n",
       "    </tr>\n",
       "    <tr>\n",
       "      <th>1</th>\n",
       "      <td>2</td>\n",
       "      <td>Luiz Adriano</td>\n",
       "      <td>br BRA</td>\n",
       "      <td>AT</td>\n",
       "      <td>Internacional</td>\n",
       "      <td>35</td>\n",
       "      <td>1987</td>\n",
       "      <td>29</td>\n",
       "      <td>17</td>\n",
       "      <td>1.330</td>\n",
       "      <td>...</td>\n",
       "      <td>0.07</td>\n",
       "      <td>0.27</td>\n",
       "      <td>0.20</td>\n",
       "      <td>0.27</td>\n",
       "      <td>0.18</td>\n",
       "      <td>0.09</td>\n",
       "      <td>0.27</td>\n",
       "      <td>0.18</td>\n",
       "      <td>0.27</td>\n",
       "      <td>Partidas</td>\n",
       "    </tr>\n",
       "    <tr>\n",
       "      <th>2</th>\n",
       "      <td>3</td>\n",
       "      <td>Adriel</td>\n",
       "      <td>br BRA</td>\n",
       "      <td>G</td>\n",
       "      <td>Grêmio</td>\n",
       "      <td>22</td>\n",
       "      <td>2001</td>\n",
       "      <td>2</td>\n",
       "      <td>2</td>\n",
       "      <td>180</td>\n",
       "      <td>...</td>\n",
       "      <td>0.00</td>\n",
       "      <td>0.00</td>\n",
       "      <td>0.00</td>\n",
       "      <td>0.00</td>\n",
       "      <td>0.00</td>\n",
       "      <td>0.00</td>\n",
       "      <td>0.00</td>\n",
       "      <td>0.00</td>\n",
       "      <td>0.00</td>\n",
       "      <td>Partidas</td>\n",
       "    </tr>\n",
       "    <tr>\n",
       "      <th>3</th>\n",
       "      <td>4</td>\n",
       "      <td>Adryelson</td>\n",
       "      <td>br BRA</td>\n",
       "      <td>ZG</td>\n",
       "      <td>Botafogo (RJ)</td>\n",
       "      <td>24</td>\n",
       "      <td>1998</td>\n",
       "      <td>35</td>\n",
       "      <td>35</td>\n",
       "      <td>2.996</td>\n",
       "      <td>...</td>\n",
       "      <td>0.03</td>\n",
       "      <td>0.06</td>\n",
       "      <td>0.03</td>\n",
       "      <td>0.06</td>\n",
       "      <td>0.03</td>\n",
       "      <td>0.01</td>\n",
       "      <td>0.04</td>\n",
       "      <td>0.03</td>\n",
       "      <td>0.04</td>\n",
       "      <td>Partidas</td>\n",
       "    </tr>\n",
       "    <tr>\n",
       "      <th>4</th>\n",
       "      <td>5</td>\n",
       "      <td>Adson</td>\n",
       "      <td>br BRA</td>\n",
       "      <td>AT.LT</td>\n",
       "      <td>Corinthians</td>\n",
       "      <td>22</td>\n",
       "      <td>2000</td>\n",
       "      <td>15</td>\n",
       "      <td>9</td>\n",
       "      <td>857</td>\n",
       "      <td>...</td>\n",
       "      <td>0.11</td>\n",
       "      <td>0.11</td>\n",
       "      <td>0.00</td>\n",
       "      <td>0.11</td>\n",
       "      <td>0.04</td>\n",
       "      <td>0.11</td>\n",
       "      <td>0.15</td>\n",
       "      <td>0.04</td>\n",
       "      <td>0.15</td>\n",
       "      <td>Partidas</td>\n",
       "    </tr>\n",
       "    <tr>\n",
       "      <th>...</th>\n",
       "      <td>...</td>\n",
       "      <td>...</td>\n",
       "      <td>...</td>\n",
       "      <td>...</td>\n",
       "      <td>...</td>\n",
       "      <td>...</td>\n",
       "      <td>...</td>\n",
       "      <td>...</td>\n",
       "      <td>...</td>\n",
       "      <td>...</td>\n",
       "      <td>...</td>\n",
       "      <td>...</td>\n",
       "      <td>...</td>\n",
       "      <td>...</td>\n",
       "      <td>...</td>\n",
       "      <td>...</td>\n",
       "      <td>...</td>\n",
       "      <td>...</td>\n",
       "      <td>...</td>\n",
       "      <td>...</td>\n",
       "      <td>...</td>\n",
       "    </tr>\n",
       "    <tr>\n",
       "      <th>777</th>\n",
       "      <td>749</td>\n",
       "      <td>Vinícius Zanocelo</td>\n",
       "      <td>br BRA</td>\n",
       "      <td>LT.AT</td>\n",
       "      <td>Fortaleza</td>\n",
       "      <td>22</td>\n",
       "      <td>2001</td>\n",
       "      <td>6</td>\n",
       "      <td>0</td>\n",
       "      <td>81</td>\n",
       "      <td>...</td>\n",
       "      <td>0.00</td>\n",
       "      <td>0.00</td>\n",
       "      <td>0.00</td>\n",
       "      <td>0.00</td>\n",
       "      <td>0.34</td>\n",
       "      <td>0.00</td>\n",
       "      <td>0.34</td>\n",
       "      <td>0.34</td>\n",
       "      <td>0.34</td>\n",
       "      <td>Partidas</td>\n",
       "    </tr>\n",
       "    <tr>\n",
       "      <th>778</th>\n",
       "      <td>750</td>\n",
       "      <td>Bruno Zapelli</td>\n",
       "      <td>ar ARG</td>\n",
       "      <td>LT.AT</td>\n",
       "      <td>Ath Paranaense</td>\n",
       "      <td>20</td>\n",
       "      <td>2002</td>\n",
       "      <td>21</td>\n",
       "      <td>13</td>\n",
       "      <td>1.143</td>\n",
       "      <td>...</td>\n",
       "      <td>0.16</td>\n",
       "      <td>0.31</td>\n",
       "      <td>0.16</td>\n",
       "      <td>0.31</td>\n",
       "      <td>0.19</td>\n",
       "      <td>0.14</td>\n",
       "      <td>0.34</td>\n",
       "      <td>0.19</td>\n",
       "      <td>0.34</td>\n",
       "      <td>Partidas</td>\n",
       "    </tr>\n",
       "    <tr>\n",
       "      <th>779</th>\n",
       "      <td>Class.</td>\n",
       "      <td>Jogador</td>\n",
       "      <td>Nação</td>\n",
       "      <td>Pos.</td>\n",
       "      <td>Equipe</td>\n",
       "      <td>Idade</td>\n",
       "      <td>Nascimento</td>\n",
       "      <td>MP</td>\n",
       "      <td>Inícios</td>\n",
       "      <td>Min.</td>\n",
       "      <td>...</td>\n",
       "      <td>Assis.</td>\n",
       "      <td>G+A</td>\n",
       "      <td>G-PB</td>\n",
       "      <td>G+A-PB</td>\n",
       "      <td>xG</td>\n",
       "      <td>xAG</td>\n",
       "      <td>xG+xAG</td>\n",
       "      <td>npxG</td>\n",
       "      <td>npxG+xAG</td>\n",
       "      <td>Partidas</td>\n",
       "    </tr>\n",
       "    <tr>\n",
       "      <th>780</th>\n",
       "      <td>751</td>\n",
       "      <td>Federico Zaracho</td>\n",
       "      <td>ar ARG</td>\n",
       "      <td>LT.AT</td>\n",
       "      <td>Atlético Mineiro</td>\n",
       "      <td>24</td>\n",
       "      <td>1998</td>\n",
       "      <td>27</td>\n",
       "      <td>22</td>\n",
       "      <td>1.947</td>\n",
       "      <td>...</td>\n",
       "      <td>0.05</td>\n",
       "      <td>0.14</td>\n",
       "      <td>0.09</td>\n",
       "      <td>0.14</td>\n",
       "      <td>0.14</td>\n",
       "      <td>0.08</td>\n",
       "      <td>0.22</td>\n",
       "      <td>0.14</td>\n",
       "      <td>0.22</td>\n",
       "      <td>Partidas</td>\n",
       "    </tr>\n",
       "    <tr>\n",
       "      <th>781</th>\n",
       "      <td>752</td>\n",
       "      <td>Zinho</td>\n",
       "      <td>br BRA</td>\n",
       "      <td>AT.LT</td>\n",
       "      <td>Grêmio</td>\n",
       "      <td>19</td>\n",
       "      <td>2003</td>\n",
       "      <td>7</td>\n",
       "      <td>1</td>\n",
       "      <td>244</td>\n",
       "      <td>...</td>\n",
       "      <td>0.37</td>\n",
       "      <td>0.37</td>\n",
       "      <td>0.00</td>\n",
       "      <td>0.37</td>\n",
       "      <td>0.08</td>\n",
       "      <td>0.20</td>\n",
       "      <td>0.28</td>\n",
       "      <td>0.08</td>\n",
       "      <td>0.28</td>\n",
       "      <td>Partidas</td>\n",
       "    </tr>\n",
       "  </tbody>\n",
       "</table>\n",
       "<p>782 rows × 37 columns</p>\n",
       "</div>"
      ],
      "text/plain": [
       "    Unnamed: 0_level_0 Unnamed: 1_level_0 Unnamed: 2_level_0  \\\n",
       "                Class.            Jogador              Nação   \n",
       "0                    1    Nicolás Acevedo             uy URU   \n",
       "1                    2       Luiz Adriano             br BRA   \n",
       "2                    3             Adriel             br BRA   \n",
       "3                    4          Adryelson             br BRA   \n",
       "4                    5              Adson             br BRA   \n",
       "..                 ...                ...                ...   \n",
       "777                749  Vinícius Zanocelo             br BRA   \n",
       "778                750      Bruno Zapelli             ar ARG   \n",
       "779             Class.            Jogador              Nação   \n",
       "780                751   Federico Zaracho             ar ARG   \n",
       "781                752              Zinho             br BRA   \n",
       "\n",
       "    Unnamed: 3_level_0 Unnamed: 4_level_0 Unnamed: 5_level_0  \\\n",
       "                  Pos.             Equipe              Idade   \n",
       "0                   LT              Bahia                 23   \n",
       "1                   AT      Internacional                 35   \n",
       "2                    G             Grêmio                 22   \n",
       "3                   ZG      Botafogo (RJ)                 24   \n",
       "4                AT.LT        Corinthians                 22   \n",
       "..                 ...                ...                ...   \n",
       "777              LT.AT          Fortaleza                 22   \n",
       "778              LT.AT     Ath Paranaense                 20   \n",
       "779               Pos.             Equipe              Idade   \n",
       "780              LT.AT   Atlético Mineiro                 24   \n",
       "781              AT.LT             Grêmio                 19   \n",
       "\n",
       "    Unnamed: 6_level_0 Tempo de jogo                  ... A cada 90 minutos  \\\n",
       "            Nascimento            MP  Inícios   Min.  ...            Assis.   \n",
       "0                 1999            31       21  1.970  ...              0.00   \n",
       "1                 1987            29       17  1.330  ...              0.07   \n",
       "2                 2001             2        2    180  ...              0.00   \n",
       "3                 1998            35       35  2.996  ...              0.03   \n",
       "4                 2000            15        9    857  ...              0.11   \n",
       "..                 ...           ...      ...    ...  ...               ...   \n",
       "777               2001             6        0     81  ...              0.00   \n",
       "778               2002            21       13  1.143  ...              0.16   \n",
       "779         Nascimento            MP  Inícios   Min.  ...            Assis.   \n",
       "780               1998            27       22  1.947  ...              0.05   \n",
       "781               2003             7        1    244  ...              0.37   \n",
       "\n",
       "                                                             \\\n",
       "      G+A  G-PB  G+A-PB    xG   xAG  xG+xAG  npxG  npxG+xAG   \n",
       "0    0.00  0.00    0.00  0.04  0.05    0.10  0.04      0.10   \n",
       "1    0.27  0.20    0.27  0.18  0.09    0.27  0.18      0.27   \n",
       "2    0.00  0.00    0.00  0.00  0.00    0.00  0.00      0.00   \n",
       "3    0.06  0.03    0.06  0.03  0.01    0.04  0.03      0.04   \n",
       "4    0.11  0.00    0.11  0.04  0.11    0.15  0.04      0.15   \n",
       "..    ...   ...     ...   ...   ...     ...   ...       ...   \n",
       "777  0.00  0.00    0.00  0.34  0.00    0.34  0.34      0.34   \n",
       "778  0.31  0.16    0.31  0.19  0.14    0.34  0.19      0.34   \n",
       "779   G+A  G-PB  G+A-PB    xG   xAG  xG+xAG  npxG  npxG+xAG   \n",
       "780  0.14  0.09    0.14  0.14  0.08    0.22  0.14      0.22   \n",
       "781  0.37  0.00    0.37  0.08  0.20    0.28  0.08      0.28   \n",
       "\n",
       "    Unnamed: 36_level_0  \n",
       "               Partidas  \n",
       "0              Partidas  \n",
       "1              Partidas  \n",
       "2              Partidas  \n",
       "3              Partidas  \n",
       "4              Partidas  \n",
       "..                  ...  \n",
       "777            Partidas  \n",
       "778            Partidas  \n",
       "779            Partidas  \n",
       "780            Partidas  \n",
       "781            Partidas  \n",
       "\n",
       "[782 rows x 37 columns]"
      ]
     },
     "execution_count": 2,
     "metadata": {},
     "output_type": "execute_result"
    }
   ],
   "source": [
    "df = pd.read_html(url_df, encoding='utf-8')[0]\n",
    "df"
   ]
  },
  {
   "cell_type": "code",
   "execution_count": 3,
   "id": "19056342-c813-4edb-ae3c-7d0ab126776b",
   "metadata": {},
   "outputs": [
    {
     "data": {
      "text/html": [
       "<div>\n",
       "<style scoped>\n",
       "    .dataframe tbody tr th:only-of-type {\n",
       "        vertical-align: middle;\n",
       "    }\n",
       "\n",
       "    .dataframe tbody tr th {\n",
       "        vertical-align: top;\n",
       "    }\n",
       "\n",
       "    .dataframe thead th {\n",
       "        text-align: right;\n",
       "    }\n",
       "</style>\n",
       "<table border=\"1\" class=\"dataframe\">\n",
       "  <thead>\n",
       "    <tr style=\"text-align: right;\">\n",
       "      <th></th>\n",
       "      <th>Unnamed: 0_level_0 Class.</th>\n",
       "      <th>Unnamed: 1_level_0 Jogador</th>\n",
       "      <th>Unnamed: 2_level_0 Nação</th>\n",
       "      <th>Unnamed: 3_level_0 Pos.</th>\n",
       "      <th>Unnamed: 4_level_0 Equipe</th>\n",
       "      <th>Unnamed: 5_level_0 Idade</th>\n",
       "      <th>Unnamed: 6_level_0 Nascimento</th>\n",
       "      <th>Tempo de jogo MP</th>\n",
       "      <th>Tempo de jogo Inícios</th>\n",
       "      <th>Tempo de jogo Min.</th>\n",
       "      <th>...</th>\n",
       "      <th>A cada 90 minutos Assis.</th>\n",
       "      <th>A cada 90 minutos G+A</th>\n",
       "      <th>A cada 90 minutos G-PB</th>\n",
       "      <th>A cada 90 minutos G+A-PB</th>\n",
       "      <th>A cada 90 minutos xG</th>\n",
       "      <th>A cada 90 minutos xAG</th>\n",
       "      <th>A cada 90 minutos xG+xAG</th>\n",
       "      <th>A cada 90 minutos npxG</th>\n",
       "      <th>A cada 90 minutos npxG+xAG</th>\n",
       "      <th>Unnamed: 36_level_0 Partidas</th>\n",
       "    </tr>\n",
       "  </thead>\n",
       "  <tbody>\n",
       "    <tr>\n",
       "      <th>0</th>\n",
       "      <td>1</td>\n",
       "      <td>Nicolás Acevedo</td>\n",
       "      <td>uy URU</td>\n",
       "      <td>LT</td>\n",
       "      <td>Bahia</td>\n",
       "      <td>23</td>\n",
       "      <td>1999</td>\n",
       "      <td>31</td>\n",
       "      <td>21</td>\n",
       "      <td>1.970</td>\n",
       "      <td>...</td>\n",
       "      <td>0.00</td>\n",
       "      <td>0.00</td>\n",
       "      <td>0.00</td>\n",
       "      <td>0.00</td>\n",
       "      <td>0.04</td>\n",
       "      <td>0.05</td>\n",
       "      <td>0.10</td>\n",
       "      <td>0.04</td>\n",
       "      <td>0.10</td>\n",
       "      <td>Partidas</td>\n",
       "    </tr>\n",
       "    <tr>\n",
       "      <th>1</th>\n",
       "      <td>2</td>\n",
       "      <td>Luiz Adriano</td>\n",
       "      <td>br BRA</td>\n",
       "      <td>AT</td>\n",
       "      <td>Internacional</td>\n",
       "      <td>35</td>\n",
       "      <td>1987</td>\n",
       "      <td>29</td>\n",
       "      <td>17</td>\n",
       "      <td>1.330</td>\n",
       "      <td>...</td>\n",
       "      <td>0.07</td>\n",
       "      <td>0.27</td>\n",
       "      <td>0.20</td>\n",
       "      <td>0.27</td>\n",
       "      <td>0.18</td>\n",
       "      <td>0.09</td>\n",
       "      <td>0.27</td>\n",
       "      <td>0.18</td>\n",
       "      <td>0.27</td>\n",
       "      <td>Partidas</td>\n",
       "    </tr>\n",
       "    <tr>\n",
       "      <th>2</th>\n",
       "      <td>3</td>\n",
       "      <td>Adriel</td>\n",
       "      <td>br BRA</td>\n",
       "      <td>G</td>\n",
       "      <td>Grêmio</td>\n",
       "      <td>22</td>\n",
       "      <td>2001</td>\n",
       "      <td>2</td>\n",
       "      <td>2</td>\n",
       "      <td>180</td>\n",
       "      <td>...</td>\n",
       "      <td>0.00</td>\n",
       "      <td>0.00</td>\n",
       "      <td>0.00</td>\n",
       "      <td>0.00</td>\n",
       "      <td>0.00</td>\n",
       "      <td>0.00</td>\n",
       "      <td>0.00</td>\n",
       "      <td>0.00</td>\n",
       "      <td>0.00</td>\n",
       "      <td>Partidas</td>\n",
       "    </tr>\n",
       "    <tr>\n",
       "      <th>3</th>\n",
       "      <td>4</td>\n",
       "      <td>Adryelson</td>\n",
       "      <td>br BRA</td>\n",
       "      <td>ZG</td>\n",
       "      <td>Botafogo (RJ)</td>\n",
       "      <td>24</td>\n",
       "      <td>1998</td>\n",
       "      <td>35</td>\n",
       "      <td>35</td>\n",
       "      <td>2.996</td>\n",
       "      <td>...</td>\n",
       "      <td>0.03</td>\n",
       "      <td>0.06</td>\n",
       "      <td>0.03</td>\n",
       "      <td>0.06</td>\n",
       "      <td>0.03</td>\n",
       "      <td>0.01</td>\n",
       "      <td>0.04</td>\n",
       "      <td>0.03</td>\n",
       "      <td>0.04</td>\n",
       "      <td>Partidas</td>\n",
       "    </tr>\n",
       "    <tr>\n",
       "      <th>4</th>\n",
       "      <td>5</td>\n",
       "      <td>Adson</td>\n",
       "      <td>br BRA</td>\n",
       "      <td>AT.LT</td>\n",
       "      <td>Corinthians</td>\n",
       "      <td>22</td>\n",
       "      <td>2000</td>\n",
       "      <td>15</td>\n",
       "      <td>9</td>\n",
       "      <td>857</td>\n",
       "      <td>...</td>\n",
       "      <td>0.11</td>\n",
       "      <td>0.11</td>\n",
       "      <td>0.00</td>\n",
       "      <td>0.11</td>\n",
       "      <td>0.04</td>\n",
       "      <td>0.11</td>\n",
       "      <td>0.15</td>\n",
       "      <td>0.04</td>\n",
       "      <td>0.15</td>\n",
       "      <td>Partidas</td>\n",
       "    </tr>\n",
       "  </tbody>\n",
       "</table>\n",
       "<p>5 rows × 37 columns</p>\n",
       "</div>"
      ],
      "text/plain": [
       "  Unnamed: 0_level_0 Class. Unnamed: 1_level_0 Jogador  \\\n",
       "0                         1            Nicolás Acevedo   \n",
       "1                         2               Luiz Adriano   \n",
       "2                         3                     Adriel   \n",
       "3                         4                  Adryelson   \n",
       "4                         5                      Adson   \n",
       "\n",
       "  Unnamed: 2_level_0 Nação Unnamed: 3_level_0 Pos. Unnamed: 4_level_0 Equipe  \\\n",
       "0                   uy URU                      LT                     Bahia   \n",
       "1                   br BRA                      AT             Internacional   \n",
       "2                   br BRA                       G                    Grêmio   \n",
       "3                   br BRA                      ZG             Botafogo (RJ)   \n",
       "4                   br BRA                   AT.LT               Corinthians   \n",
       "\n",
       "  Unnamed: 5_level_0 Idade Unnamed: 6_level_0 Nascimento Tempo de jogo MP  \\\n",
       "0                       23                          1999               31   \n",
       "1                       35                          1987               29   \n",
       "2                       22                          2001                2   \n",
       "3                       24                          1998               35   \n",
       "4                       22                          2000               15   \n",
       "\n",
       "  Tempo de jogo Inícios Tempo de jogo Min.  ... A cada 90 minutos Assis.  \\\n",
       "0                    21              1.970  ...                     0.00   \n",
       "1                    17              1.330  ...                     0.07   \n",
       "2                     2                180  ...                     0.00   \n",
       "3                    35              2.996  ...                     0.03   \n",
       "4                     9                857  ...                     0.11   \n",
       "\n",
       "  A cada 90 minutos G+A A cada 90 minutos G-PB A cada 90 minutos G+A-PB  \\\n",
       "0                  0.00                   0.00                     0.00   \n",
       "1                  0.27                   0.20                     0.27   \n",
       "2                  0.00                   0.00                     0.00   \n",
       "3                  0.06                   0.03                     0.06   \n",
       "4                  0.11                   0.00                     0.11   \n",
       "\n",
       "  A cada 90 minutos xG A cada 90 minutos xAG A cada 90 minutos xG+xAG  \\\n",
       "0                 0.04                  0.05                     0.10   \n",
       "1                 0.18                  0.09                     0.27   \n",
       "2                 0.00                  0.00                     0.00   \n",
       "3                 0.03                  0.01                     0.04   \n",
       "4                 0.04                  0.11                     0.15   \n",
       "\n",
       "  A cada 90 minutos npxG A cada 90 minutos npxG+xAG  \\\n",
       "0                   0.04                       0.10   \n",
       "1                   0.18                       0.27   \n",
       "2                   0.00                       0.00   \n",
       "3                   0.03                       0.04   \n",
       "4                   0.04                       0.15   \n",
       "\n",
       "  Unnamed: 36_level_0 Partidas  \n",
       "0                     Partidas  \n",
       "1                     Partidas  \n",
       "2                     Partidas  \n",
       "3                     Partidas  \n",
       "4                     Partidas  \n",
       "\n",
       "[5 rows x 37 columns]"
      ]
     },
     "execution_count": 3,
     "metadata": {},
     "output_type": "execute_result"
    }
   ],
   "source": [
    "# creating a data with the same headers but without multi indexing\n",
    "df.columns = [' '.join(col).strip() for col in df.columns]\n",
    "\n",
    "df = df.reset_index(drop=True)\n",
    "df.head()"
   ]
  },
  {
   "cell_type": "code",
   "execution_count": 4,
   "id": "a4a885e6-1fa2-4957-82b6-39abd54da38d",
   "metadata": {},
   "outputs": [
    {
     "data": {
      "text/html": [
       "<div>\n",
       "<style scoped>\n",
       "    .dataframe tbody tr th:only-of-type {\n",
       "        vertical-align: middle;\n",
       "    }\n",
       "\n",
       "    .dataframe tbody tr th {\n",
       "        vertical-align: top;\n",
       "    }\n",
       "\n",
       "    .dataframe thead th {\n",
       "        text-align: right;\n",
       "    }\n",
       "</style>\n",
       "<table border=\"1\" class=\"dataframe\">\n",
       "  <thead>\n",
       "    <tr style=\"text-align: right;\">\n",
       "      <th></th>\n",
       "      <th>Class.</th>\n",
       "      <th>Jogador</th>\n",
       "      <th>Nação</th>\n",
       "      <th>Pos.</th>\n",
       "      <th>Equipe</th>\n",
       "      <th>Idade</th>\n",
       "      <th>Nascimento</th>\n",
       "      <th>Tempo de jogo MP</th>\n",
       "      <th>Tempo de jogo Inícios</th>\n",
       "      <th>Tempo de jogo Min.</th>\n",
       "      <th>...</th>\n",
       "      <th>A cada 90 minutos Assis.</th>\n",
       "      <th>A cada 90 minutos G+A</th>\n",
       "      <th>A cada 90 minutos G-PB</th>\n",
       "      <th>A cada 90 minutos G+A-PB</th>\n",
       "      <th>A cada 90 minutos xG</th>\n",
       "      <th>A cada 90 minutos xAG</th>\n",
       "      <th>A cada 90 minutos xG+xAG</th>\n",
       "      <th>A cada 90 minutos npxG</th>\n",
       "      <th>A cada 90 minutos npxG+xAG</th>\n",
       "      <th>Partidas</th>\n",
       "    </tr>\n",
       "  </thead>\n",
       "  <tbody>\n",
       "    <tr>\n",
       "      <th>0</th>\n",
       "      <td>1</td>\n",
       "      <td>Nicolás Acevedo</td>\n",
       "      <td>uy URU</td>\n",
       "      <td>LT</td>\n",
       "      <td>Bahia</td>\n",
       "      <td>23</td>\n",
       "      <td>1999</td>\n",
       "      <td>31</td>\n",
       "      <td>21</td>\n",
       "      <td>1.970</td>\n",
       "      <td>...</td>\n",
       "      <td>0.00</td>\n",
       "      <td>0.00</td>\n",
       "      <td>0.00</td>\n",
       "      <td>0.00</td>\n",
       "      <td>0.04</td>\n",
       "      <td>0.05</td>\n",
       "      <td>0.10</td>\n",
       "      <td>0.04</td>\n",
       "      <td>0.10</td>\n",
       "      <td>Partidas</td>\n",
       "    </tr>\n",
       "    <tr>\n",
       "      <th>1</th>\n",
       "      <td>2</td>\n",
       "      <td>Luiz Adriano</td>\n",
       "      <td>br BRA</td>\n",
       "      <td>AT</td>\n",
       "      <td>Internacional</td>\n",
       "      <td>35</td>\n",
       "      <td>1987</td>\n",
       "      <td>29</td>\n",
       "      <td>17</td>\n",
       "      <td>1.330</td>\n",
       "      <td>...</td>\n",
       "      <td>0.07</td>\n",
       "      <td>0.27</td>\n",
       "      <td>0.20</td>\n",
       "      <td>0.27</td>\n",
       "      <td>0.18</td>\n",
       "      <td>0.09</td>\n",
       "      <td>0.27</td>\n",
       "      <td>0.18</td>\n",
       "      <td>0.27</td>\n",
       "      <td>Partidas</td>\n",
       "    </tr>\n",
       "    <tr>\n",
       "      <th>2</th>\n",
       "      <td>3</td>\n",
       "      <td>Adriel</td>\n",
       "      <td>br BRA</td>\n",
       "      <td>G</td>\n",
       "      <td>Grêmio</td>\n",
       "      <td>22</td>\n",
       "      <td>2001</td>\n",
       "      <td>2</td>\n",
       "      <td>2</td>\n",
       "      <td>180</td>\n",
       "      <td>...</td>\n",
       "      <td>0.00</td>\n",
       "      <td>0.00</td>\n",
       "      <td>0.00</td>\n",
       "      <td>0.00</td>\n",
       "      <td>0.00</td>\n",
       "      <td>0.00</td>\n",
       "      <td>0.00</td>\n",
       "      <td>0.00</td>\n",
       "      <td>0.00</td>\n",
       "      <td>Partidas</td>\n",
       "    </tr>\n",
       "    <tr>\n",
       "      <th>3</th>\n",
       "      <td>4</td>\n",
       "      <td>Adryelson</td>\n",
       "      <td>br BRA</td>\n",
       "      <td>ZG</td>\n",
       "      <td>Botafogo (RJ)</td>\n",
       "      <td>24</td>\n",
       "      <td>1998</td>\n",
       "      <td>35</td>\n",
       "      <td>35</td>\n",
       "      <td>2.996</td>\n",
       "      <td>...</td>\n",
       "      <td>0.03</td>\n",
       "      <td>0.06</td>\n",
       "      <td>0.03</td>\n",
       "      <td>0.06</td>\n",
       "      <td>0.03</td>\n",
       "      <td>0.01</td>\n",
       "      <td>0.04</td>\n",
       "      <td>0.03</td>\n",
       "      <td>0.04</td>\n",
       "      <td>Partidas</td>\n",
       "    </tr>\n",
       "    <tr>\n",
       "      <th>4</th>\n",
       "      <td>5</td>\n",
       "      <td>Adson</td>\n",
       "      <td>br BRA</td>\n",
       "      <td>AT.LT</td>\n",
       "      <td>Corinthians</td>\n",
       "      <td>22</td>\n",
       "      <td>2000</td>\n",
       "      <td>15</td>\n",
       "      <td>9</td>\n",
       "      <td>857</td>\n",
       "      <td>...</td>\n",
       "      <td>0.11</td>\n",
       "      <td>0.11</td>\n",
       "      <td>0.00</td>\n",
       "      <td>0.11</td>\n",
       "      <td>0.04</td>\n",
       "      <td>0.11</td>\n",
       "      <td>0.15</td>\n",
       "      <td>0.04</td>\n",
       "      <td>0.15</td>\n",
       "      <td>Partidas</td>\n",
       "    </tr>\n",
       "  </tbody>\n",
       "</table>\n",
       "<p>5 rows × 37 columns</p>\n",
       "</div>"
      ],
      "text/plain": [
       "  Class.          Jogador   Nação   Pos.         Equipe Idade Nascimento  \\\n",
       "0      1  Nicolás Acevedo  uy URU     LT          Bahia    23       1999   \n",
       "1      2     Luiz Adriano  br BRA     AT  Internacional    35       1987   \n",
       "2      3           Adriel  br BRA      G         Grêmio    22       2001   \n",
       "3      4        Adryelson  br BRA     ZG  Botafogo (RJ)    24       1998   \n",
       "4      5            Adson  br BRA  AT.LT    Corinthians    22       2000   \n",
       "\n",
       "  Tempo de jogo MP Tempo de jogo Inícios Tempo de jogo Min.  ...  \\\n",
       "0               31                    21              1.970  ...   \n",
       "1               29                    17              1.330  ...   \n",
       "2                2                     2                180  ...   \n",
       "3               35                    35              2.996  ...   \n",
       "4               15                     9                857  ...   \n",
       "\n",
       "  A cada 90 minutos Assis. A cada 90 minutos G+A A cada 90 minutos G-PB  \\\n",
       "0                     0.00                  0.00                   0.00   \n",
       "1                     0.07                  0.27                   0.20   \n",
       "2                     0.00                  0.00                   0.00   \n",
       "3                     0.03                  0.06                   0.03   \n",
       "4                     0.11                  0.11                   0.00   \n",
       "\n",
       "  A cada 90 minutos G+A-PB A cada 90 minutos xG A cada 90 minutos xAG  \\\n",
       "0                     0.00                 0.04                  0.05   \n",
       "1                     0.27                 0.18                  0.09   \n",
       "2                     0.00                 0.00                  0.00   \n",
       "3                     0.06                 0.03                  0.01   \n",
       "4                     0.11                 0.04                  0.11   \n",
       "\n",
       "  A cada 90 minutos xG+xAG A cada 90 minutos npxG A cada 90 minutos npxG+xAG  \\\n",
       "0                     0.10                   0.04                       0.10   \n",
       "1                     0.27                   0.18                       0.27   \n",
       "2                     0.00                   0.00                       0.00   \n",
       "3                     0.04                   0.03                       0.04   \n",
       "4                     0.15                   0.04                       0.15   \n",
       "\n",
       "   Partidas  \n",
       "0  Partidas  \n",
       "1  Partidas  \n",
       "2  Partidas  \n",
       "3  Partidas  \n",
       "4  Partidas  \n",
       "\n",
       "[5 rows x 37 columns]"
      ]
     },
     "execution_count": 4,
     "metadata": {},
     "output_type": "execute_result"
    }
   ],
   "source": [
    "# creating a list with new names\n",
    "new_columns = []\n",
    "for col in df.columns:\n",
    "  if 'level_0' in col:\n",
    "      new_col = col.split()[-1]  # takes the last name\n",
    "  else:\n",
    "      new_col = col\n",
    "  new_columns.append(new_col)\n",
    "\n",
    "# rename columns\n",
    "df.columns = new_columns\n",
    "df = df.fillna(0)\n",
    "\n",
    "df.head()\n"
   ]
  },
  {
   "cell_type": "code",
   "execution_count": 5,
   "id": "91f7ac54-86ca-4c1b-8d81-a0144f2093a7",
   "metadata": {},
   "outputs": [],
   "source": [
    "# salva em um arquivo csv que será utilizado na visualização\n",
    "df.to_csv(\"teste\", sep=',', index=False, encoding='utf-8')"
   ]
  },
  {
   "cell_type": "markdown",
   "id": "c830a63d",
   "metadata": {},
   "source": [
    "Inicialmente utilizei a biblioteca de futebol para gerar visualizações inciais."
   ]
  },
  {
   "cell_type": "code",
   "execution_count": 6,
   "id": "81409258-a960-4f91-bdf2-aecb5c706fb8",
   "metadata": {},
   "outputs": [],
   "source": [
    "import pandas as pd\n",
    "import numpy as np\n",
    "import matplotlib.pyplot as plt\n",
    "import warnings\n",
    "from scipy import stats\n",
    "from mplsoccer import PyPizza, FontManager\n",
    "warnings.filterwarnings('ignore')\n",
    "\n",
    "df: pd.DataFrame = pd.read_csv(\"player_standard_stats.csv\")\n",
    "df.drop(columns=[\"Rk\", \"Nation\", \"Age\", \"Starts\", \"Born\", \"Min\", \"90s\", \"Matches\", \"-9999\"], inplace=True) # removendo colunas \"inúteis\"\n",
    "df.rename(columns={\"Gls.1\": \"GlsP90\", \"Ast.1\": \"AstP90\", \"G+A.1\": \"G+AP90\", \"G-PK.1\": \"G-PKP90\", \"xG.1\": \"xGP90\", \"xAG.1\": \"xAGP90\", \"npxG.1\": \"npxGP90\", \"npxG+xAG.1\": \"npxG+xAGP90\"}, inplace=True)\n",
    "\n",
    "hulk_series: pd.Series = df[(df[\"Player\"] == \"Hulk\") & (df[\"Squad\"] == \"Atlético Mineiro\")]\n",
    "pedro_series: pd.Series = df[(df[\"Player\"] == \"Pedro\") & (df[\"Squad\"] == \"Flamengo\")]\n",
    "rony_series: pd.Series = df[(df[\"Player\"] == \"Dudu\") & (df[\"Squad\"] == \"Palmeiras\")]\n",
    "\n",
    "names = [\"xG\", \"npxG\", \"PrgC\", \"PrgR\", \"GlsP90\", \"xGP90\"]\n",
    "fowards = df[(df[\"Pos\"].str.contains(\"FW\")) & (df[\"MP\"] >= 25)].describe()[names]\n",
    "max_values: np.array = fowards.loc[\"max\"].to_numpy()\n",
    "min_values: np.array = fowards.loc[\"min\"].to_numpy()\n",
    "descriptive_names: np.array = np.array([\"Expected Goals\", \"Non Penalty Expected Goals\", \"Progressive Carries\", \"Progressive Passes Received\", \"Goals Per 90 Minutes\", \"Expected Goals Per 90 Minutes\"])"
   ]
  },
  {
   "cell_type": "code",
   "execution_count": 7,
   "id": "92dcbdb9",
   "metadata": {},
   "outputs": [
    {
     "data": {
      "image/png": "[encoded data removed]",
      "text/plain": [
       "<Figure size 600x600 with 1 Axes>"
      ]
     },
     "metadata": {},
     "output_type": "display_data"
    }
   ],
   "source": [
    "# código copiado do SoccerMatics\n",
    "\n",
    "values: np.array = hulk_series[names].to_numpy()[0]\n",
    "values_normalized: np.array = np.round(((values - min_values) / max_values) * 100, 2)\n",
    "slice_colors = [\"blue\"] * 2 + [\"green\"] * 2 + [\"red\"] * 2\n",
    "text_colors = [\"white\"]*6\n",
    "\n",
    "#PIZZA PLOT\n",
    "baker = PyPizza(\n",
    "    params=descriptive_names,\n",
    "    min_range = None,\n",
    "    max_range = None,               # list of parameters\n",
    "    straight_line_color=\"#000000\",  # color for straight lines\n",
    "    straight_line_lw=1,             # linewidth for straight lines\n",
    "    last_circle_lw=1,               # linewidth of last circle\n",
    "    other_circle_lw=1,              # linewidth for other circles\n",
    "    other_circle_ls=\"-.\"            # linestyle for other circles\n",
    ")\n",
    "#making pizza for our data\n",
    "fig, ax = baker.make_pizza(\n",
    "    values_normalized,              # list of values\n",
    "    figsize=(6, 6),      # adjust figsize according to your need\n",
    "    param_location=110,\n",
    "    slice_colors=slice_colors,\n",
    "    value_colors = text_colors,\n",
    "    value_bck_colors=slice_colors, # where the parameters will be added\n",
    "    kwargs_slices=dict(\n",
    "        facecolor=\"cornflowerblue\", edgecolor=\"#000000\",\n",
    "        zorder=2, linewidth=1\n",
    "    ),                   # values to be used when plotting slices\n",
    "    kwargs_params=dict(\n",
    "        color=\"#000000\", fontsize=12,\n",
    "    ),                   # values to be used when adding parameter\n",
    "    kwargs_values=dict(\n",
    "        color=\"#000000\", fontsize=12,\n",
    "        bbox=dict(\n",
    "            edgecolor=\"#000000\", facecolor=\"cornflowerblue\",\n",
    "            boxstyle=\"round,pad=0.2\", lw=1\n",
    "        )\n",
    "    )                    # values to be used when adding parameter-values\n",
    ")\n",
    "\n",
    "#putting text\n",
    "texts = baker.get_value_texts()\n",
    "for i, text in enumerate(texts):\n",
    "    text.set_text(str(values[i]))\n",
    "# add title\n",
    "fig.text(\n",
    "    0.515, 0.97, \"Hulk - Atlético Mineiro\", size=18,\n",
    ")\n",
    "\n",
    "# add subtitle\n",
    "fig.text(\n",
    "    0.515, 0.942,\n",
    "    \"Campeonato Brasileiro | Season 2021 - 2022\",\n",
    "    size=15,\n",
    ")\n",
    "plt.show()"
   ]
  },
  {
   "cell_type": "markdown",
   "id": "6ec77ff6",
   "metadata": {},
   "source": [
    "No entando esse plot apresenta alguns problemas:\n",
    "1. As áreas dos semicírculos possuem escalas diferentes, o que na minha visão dificulta o entendimento\n",
    "2. Os valores usados diferem muito uns dos outros, o ideal seria que tivessem a mesma escala\n",
    "3. Não é possível comparar os jogadores de maneira clara, os números sozinhos não tem muito valor\n",
    "\n",
    "Com esses problemas em mente parti para a criação de uma visualização melhorada utilizando o plotly."
   ]
  },
  {
   "cell_type": "markdown",
   "id": "2c0856c0",
   "metadata": {},
   "source": [
    "Para o terceiro problema parti para a utilização da biblioteca plotly, que é uma biblioteca de visualização de dados interativa. A biblioteca é muito poderosa e permite a criação de gráficos interativo. Utilizei a função Scatterpolar para criar uma representação e utilizei um conjunto de callbacks para que o gráfico fosse atualizado de acordo com o jogador selecionado. Abaixo encontra a primeira versão, ainda tem nenhuma forma de interação."
   ]
  },
  {
   "cell_type": "code",
   "execution_count": 8,
   "id": "de9e8745",
   "metadata": {},
   "outputs": [
    {
     "data": {
      "application/vnd.plotly.v1+json": {
       "config": {
        "plotlyServerURL": "https://plot.ly"
       },
       "data": [
        {
         "fill": "toself",
         "name": "Hulk",
         "r": [
          9.1,
          7.5,
          74,
          225,
          0.52,
          0.39
         ],
         "theta": [
          "Non Penalty Expected Goals",
          "Progressive Carries",
          "Progressive Passes Received",
          "Goals Per 90 Minutes",
          "Expected Goals Per 90 Minutes"
         ],
         "type": "scatterpolar"
        }
       ],
       "layout": {
        "polar": {
         "radialaxis": {
          "visible": true
         }
        },
        "showlegend": true,
        "template": {
         "data": {
          "bar": [
           {
            "error_x": {
             "color": "#2a3f5f"
            },
            "error_y": {
             "color": "#2a3f5f"
            },
            "marker": {
             "line": {
              "color": "#E5ECF6",
              "width": 0.5
             },
             "pattern": {
              "fillmode": "overlay",
              "size": 10,
              "solidity": 0.2
             }
            },
            "type": "bar"
           }
          ],
          "barpolar": [
           {
            "marker": {
             "line": {
              "color": "#E5ECF6",
              "width": 0.5
             },
             "pattern": {
              "fillmode": "overlay",
              "size": 10,
              "solidity": 0.2
             }
            },
            "type": "barpolar"
           }
          ],
          "carpet": [
           {
            "aaxis": {
             "endlinecolor": "#2a3f5f",
             "gridcolor": "white",
             "linecolor": "white",
             "minorgridcolor": "white",
             "startlinecolor": "#2a3f5f"
            },
            "baxis": {
             "endlinecolor": "#2a3f5f",
             "gridcolor": "white",
             "linecolor": "white",
             "minorgridcolor": "white",
             "startlinecolor": "#2a3f5f"
            },
            "type": "carpet"
           }
          ],
          "choropleth": [
           {
            "colorbar": {
             "outlinewidth": 0,
             "ticks": ""
            },
            "type": "choropleth"
           }
          ],
          "contour": [
           {
            "colorbar": {
             "outlinewidth": 0,
             "ticks": ""
            },
            "colorscale": [
             [
              0,
              "#0d0887"
             ],
             [
              0.1111111111111111,
              "#46039f"
             ],
             [
              0.2222222222222222,
              "#7201a8"
             ],
             [
              0.3333333333333333,
              "#9c179e"
             ],
             [
              0.4444444444444444,
              "#bd3786"
             ],
             [
              0.5555555555555556,
              "#d8576b"
             ],
             [
              0.6666666666666666,
              "#ed7953"
             ],
             [
              0.7777777777777778,
              "#fb9f3a"
             ],
             [
              0.8888888888888888,
              "#fdca26"
             ],
             [
              1,
              "#f0f921"
             ]
            ],
            "type": "contour"
           }
          ],
          "contourcarpet": [
           {
            "colorbar": {
             "outlinewidth": 0,
             "ticks": ""
            },
            "type": "contourcarpet"
           }
          ],
          "heatmap": [
           {
            "colorbar": {
             "outlinewidth": 0,
             "ticks": ""
            },
            "colorscale": [
             [
              0,
              "#0d0887"
             ],
             [
              0.1111111111111111,
              "#46039f"
             ],
             [
              0.2222222222222222,
              "#7201a8"
             ],
             [
              0.3333333333333333,
              "#9c179e"
             ],
             [
              0.4444444444444444,
              "#bd3786"
             ],
             [
              0.5555555555555556,
              "#d8576b"
             ],
             [
              0.6666666666666666,
              "#ed7953"
             ],
             [
              0.7777777777777778,
              "#fb9f3a"
             ],
             [
              0.8888888888888888,
              "#fdca26"
             ],
             [
              1,
              "#f0f921"
             ]
            ],
            "type": "heatmap"
           }
          ],
          "heatmapgl": [
           {
            "colorbar": {
             "outlinewidth": 0,
             "ticks": ""
            },
            "colorscale": [
             [
              0,
              "#0d0887"
             ],
             [
              0.1111111111111111,
              "#46039f"
             ],
             [
              0.2222222222222222,
              "#7201a8"
             ],
             [
              0.3333333333333333,
              "#9c179e"
             ],
             [
              0.4444444444444444,
              "#bd3786"
             ],
             [
              0.5555555555555556,
              "#d8576b"
             ],
             [
              0.6666666666666666,
              "#ed7953"
             ],
             [
              0.7777777777777778,
              "#fb9f3a"
             ],
             [
              0.8888888888888888,
              "#fdca26"
             ],
             [
              1,
              "#f0f921"
             ]
            ],
            "type": "heatmapgl"
           }
          ],
          "histogram": [
           {
            "marker": {
             "pattern": {
              "fillmode": "overlay",
              "size": 10,
              "solidity": 0.2
             }
            },
            "type": "histogram"
           }
          ],
          "histogram2d": [
           {
            "colorbar": {
             "outlinewidth": 0,
             "ticks": ""
            },
            "colorscale": [
             [
              0,
              "#0d0887"
             ],
             [
              0.1111111111111111,
              "#46039f"
             ],
             [
              0.2222222222222222,
              "#7201a8"
             ],
             [
              0.3333333333333333,
              "#9c179e"
             ],
             [
              0.4444444444444444,
              "#bd3786"
             ],
             [
              0.5555555555555556,
              "#d8576b"
             ],
             [
              0.6666666666666666,
              "#ed7953"
             ],
             [
              0.7777777777777778,
              "#fb9f3a"
             ],
             [
              0.8888888888888888,
              "#fdca26"
             ],
             [
              1,
              "#f0f921"
             ]
            ],
            "type": "histogram2d"
           }
          ],
          "histogram2dcontour": [
           {
            "colorbar": {
             "outlinewidth": 0,
             "ticks": ""
            },
            "colorscale": [
             [
              0,
              "#0d0887"
             ],
             [
              0.1111111111111111,
              "#46039f"
             ],
             [
              0.2222222222222222,
              "#7201a8"
             ],
             [
              0.3333333333333333,
              "#9c179e"
             ],
             [
              0.4444444444444444,
              "#bd3786"
             ],
             [
              0.5555555555555556,
              "#d8576b"
             ],
             [
              0.6666666666666666,
              "#ed7953"
             ],
             [
              0.7777777777777778,
              "#fb9f3a"
             ],
             [
              0.8888888888888888,
              "#fdca26"
             ],
             [
              1,
              "#f0f921"
             ]
            ],
            "type": "histogram2dcontour"
           }
          ],
          "mesh3d": [
           {
            "colorbar": {
             "outlinewidth": 0,
             "ticks": ""
            },
            "type": "mesh3d"
           }
          ],
          "parcoords": [
           {
            "line": {
             "colorbar": {
              "outlinewidth": 0,
              "ticks": ""
             }
            },
            "type": "parcoords"
           }
          ],
          "pie": [
           {
            "automargin": true,
            "type": "pie"
           }
          ],
          "scatter": [
           {
            "fillpattern": {
             "fillmode": "overlay",
             "size": 10,
             "solidity": 0.2
            },
            "type": "scatter"
           }
          ],
          "scatter3d": [
           {
            "line": {
             "colorbar": {
              "outlinewidth": 0,
              "ticks": ""
             }
            },
            "marker": {
             "colorbar": {
              "outlinewidth": 0,
              "ticks": ""
             }
            },
            "type": "scatter3d"
           }
          ],
          "scattercarpet": [
           {
            "marker": {
             "colorbar": {
              "outlinewidth": 0,
              "ticks": ""
             }
            },
            "type": "scattercarpet"
           }
          ],
          "scattergeo": [
           {
            "marker": {
             "colorbar": {
              "outlinewidth": 0,
              "ticks": ""
             }
            },
            "type": "scattergeo"
           }
          ],
          "scattergl": [
           {
            "marker": {
             "colorbar": {
              "outlinewidth": 0,
              "ticks": ""
             }
            },
            "type": "scattergl"
           }
          ],
          "scattermapbox": [
           {
            "marker": {
             "colorbar": {
              "outlinewidth": 0,
              "ticks": ""
             }
            },
            "type": "scattermapbox"
           }
          ],
          "scatterpolar": [
           {
            "marker": {
             "colorbar": {
              "outlinewidth": 0,
              "ticks": ""
             }
            },
            "type": "scatterpolar"
           }
          ],
          "scatterpolargl": [
           {
            "marker": {
             "colorbar": {
              "outlinewidth": 0,
              "ticks": ""
             }
            },
            "type": "scatterpolargl"
           }
          ],
          "scatterternary": [
           {
            "marker": {
             "colorbar": {
              "outlinewidth": 0,
              "ticks": ""
             }
            },
            "type": "scatterternary"
           }
          ],
          "surface": [
           {
            "colorbar": {
             "outlinewidth": 0,
             "ticks": ""
            },
            "colorscale": [
             [
              0,
              "#0d0887"
             ],
             [
              0.1111111111111111,
              "#46039f"
             ],
             [
              0.2222222222222222,
              "#7201a8"
             ],
             [
              0.3333333333333333,
              "#9c179e"
             ],
             [
              0.4444444444444444,
              "#bd3786"
             ],
             [
              0.5555555555555556,
              "#d8576b"
             ],
             [
              0.6666666666666666,
              "#ed7953"
             ],
             [
              0.7777777777777778,
              "#fb9f3a"
             ],
             [
              0.8888888888888888,
              "#fdca26"
             ],
             [
              1,
              "#f0f921"
             ]
            ],
            "type": "surface"
           }
          ],
          "table": [
           {
            "cells": {
             "fill": {
              "color": "#EBF0F8"
             },
             "line": {
              "color": "white"
             }
            },
            "header": {
             "fill": {
              "color": "#C8D4E3"
             },
             "line": {
              "color": "white"
             }
            },
            "type": "table"
           }
          ]
         },
         "layout": {
          "annotationdefaults": {
           "arrowcolor": "#2a3f5f",
           "arrowhead": 0,
           "arrowwidth": 1
          },
          "autotypenumbers": "strict",
          "coloraxis": {
           "colorbar": {
            "outlinewidth": 0,
            "ticks": ""
           }
          },
          "colorscale": {
           "diverging": [
            [
             0,
             "#8e0152"
            ],
            [
             0.1,
             "#c51b7d"
            ],
            [
             0.2,
             "#de77ae"
            ],
            [
             0.3,
             "#f1b6da"
            ],
            [
             0.4,
             "#fde0ef"
            ],
            [
             0.5,
             "#f7f7f7"
            ],
            [
             0.6,
             "#e6f5d0"
            ],
            [
             0.7,
             "#b8e186"
            ],
            [
             0.8,
             "#7fbc41"
            ],
            [
             0.9,
             "#4d9221"
            ],
            [
             1,
             "#276419"
            ]
           ],
           "sequential": [
            [
             0,
             "#0d0887"
            ],
            [
             0.1111111111111111,
             "#46039f"
            ],
            [
             0.2222222222222222,
             "#7201a8"
            ],
            [
             0.3333333333333333,
             "#9c179e"
            ],
            [
             0.4444444444444444,
             "#bd3786"
            ],
            [
             0.5555555555555556,
             "#d8576b"
            ],
            [
             0.6666666666666666,
             "#ed7953"
            ],
            [
             0.7777777777777778,
             "#fb9f3a"
            ],
            [
             0.8888888888888888,
             "#fdca26"
            ],
            [
             1,
             "#f0f921"
            ]
           ],
           "sequentialminus": [
            [
             0,
             "#0d0887"
            ],
            [
             0.1111111111111111,
             "#46039f"
            ],
            [
             0.2222222222222222,
             "#7201a8"
            ],
            [
             0.3333333333333333,
             "#9c179e"
            ],
            [
             0.4444444444444444,
             "#bd3786"
            ],
            [
             0.5555555555555556,
             "#d8576b"
            ],
            [
             0.6666666666666666,
             "#ed7953"
            ],
            [
             0.7777777777777778,
             "#fb9f3a"
            ],
            [
             0.8888888888888888,
             "#fdca26"
            ],
            [
             1,
             "#f0f921"
            ]
           ]
          },
          "colorway": [
           "#636efa",
           "#EF553B",
           "#00cc96",
           "#ab63fa",
           "#FFA15A",
           "#19d3f3",
           "#FF6692",
           "#B6E880",
           "#FF97FF",
           "#FECB52"
          ],
          "font": {
           "color": "#2a3f5f"
          },
          "geo": {
           "bgcolor": "white",
           "lakecolor": "white",
           "landcolor": "#E5ECF6",
           "showlakes": true,
           "showland": true,
           "subunitcolor": "white"
          },
          "hoverlabel": {
           "align": "left"
          },
          "hovermode": "closest",
          "mapbox": {
           "style": "light"
          },
          "paper_bgcolor": "white",
          "plot_bgcolor": "#E5ECF6",
          "polar": {
           "angularaxis": {
            "gridcolor": "white",
            "linecolor": "white",
            "ticks": ""
           },
           "bgcolor": "#E5ECF6",
           "radialaxis": {
            "gridcolor": "white",
            "linecolor": "white",
            "ticks": ""
           }
          },
          "scene": {
           "xaxis": {
            "backgroundcolor": "#E5ECF6",
            "gridcolor": "white",
            "gridwidth": 2,
            "linecolor": "white",
            "showbackground": true,
            "ticks": "",
            "zerolinecolor": "white"
           },
           "yaxis": {
            "backgroundcolor": "#E5ECF6",
            "gridcolor": "white",
            "gridwidth": 2,
            "linecolor": "white",
            "showbackground": true,
            "ticks": "",
            "zerolinecolor": "white"
           },
           "zaxis": {
            "backgroundcolor": "#E5ECF6",
            "gridcolor": "white",
            "gridwidth": 2,
            "linecolor": "white",
            "showbackground": true,
            "ticks": "",
            "zerolinecolor": "white"
           }
          },
          "shapedefaults": {
           "line": {
            "color": "#2a3f5f"
           }
          },
          "ternary": {
           "aaxis": {
            "gridcolor": "white",
            "linecolor": "white",
            "ticks": ""
           },
           "baxis": {
            "gridcolor": "white",
            "linecolor": "white",
            "ticks": ""
           },
           "bgcolor": "#E5ECF6",
           "caxis": {
            "gridcolor": "white",
            "linecolor": "white",
            "ticks": ""
           }
          },
          "title": {
           "x": 0.05
          },
          "xaxis": {
           "automargin": true,
           "gridcolor": "white",
           "linecolor": "white",
           "ticks": "",
           "title": {
            "standoff": 15
           },
           "zerolinecolor": "white",
           "zerolinewidth": 2
          },
          "yaxis": {
           "automargin": true,
           "gridcolor": "white",
           "linecolor": "white",
           "ticks": "",
           "title": {
            "standoff": 15
           },
           "zerolinecolor": "white",
           "zerolinewidth": 2
          }
         }
        }
       }
      }
     },
     "metadata": {},
     "output_type": "display_data"
    }
   ],
   "source": [
    "import plotly.graph_objects as go\n",
    "\n",
    "fig = go.Figure()\n",
    "jogador_series: pd.Series = hulk_series\n",
    "names = [\"xG\", \"npxG\", \"PrgC\", \"PrgR\", \"GlsP90\", \"xGP90\"]\n",
    "\n",
    "descriptive_names: np.array = np.array(\n",
    "    [\n",
    "        \"Non Penalty Expected Goals\",\n",
    "        \"Progressive Carries\",\n",
    "        \"Progressive Passes Received\",\n",
    "        \"Goals Per 90 Minutes\",\n",
    "        \"Expected Goals Per 90 Minutes\",\n",
    "    ]\n",
    ")\n",
    "\n",
    "values: np.array = jogador_series[names].to_numpy()[0]\n",
    "\n",
    "fig.add_trace(\n",
    "    go.Scatterpolar(\n",
    "        r=values, theta=descriptive_names, fill=\"toself\", name=\"Hulk\"\n",
    "    )\n",
    ")\n",
    "\n",
    "fig.update_layout(\n",
    "    polar={\n",
    "        \"radialaxis\": {\"visible\": True},\n",
    "    },\n",
    "    showlegend=True,\n",
    ")\n",
    "\n",
    "fig.show()"
   ]
  },
  {
   "cell_type": "markdown",
   "id": "5bac7b6c",
   "metadata": {},
   "source": [
    "É possível ver que a visualização não está muito boa devido ao primeiro e segundo problemas. Para resolver, utilizei como base os dados P90, ou seja, por 90 minutos de jogo. Assim, os valores seriam mais próximos e podemos diminuir valores muito fora do padrão. Um batetor de pênalti, por exemplo, teria um valor muito alto de gols, mas 0 em todos os outros indicadores."
   ]
  },
  {
   "cell_type": "markdown",
   "id": "cfbe44d0",
   "metadata": {},
   "source": [
    "A versão final pode ser encontrada no trabalho principal."
   ]
  },
  {
   "cell_type": "markdown",
   "id": "2ab9978f",
   "metadata": {},
   "source": [
    "Após passar muito tempo fazendo com que a interação funcionasse, decidi que precisava de uma forma de comparar jogadores, não só a outros jogadores, mas também a média da liga. Para isso, adicionei um outro plot no qual é possivel selecionar um jogador e selecionar também ou uma posição ou um time, para comparar as métricas."
   ]
  },
  {
   "cell_type": "markdown",
   "id": "d1cf9c47",
   "metadata": {},
   "source": [
    "Finalizado essa visualização prossegui para uma outra visualização, que é a que está na página Gols Esperados. Nela prossegui da mesma forma, no entanto a parte de interação é diferente. No caso, o usuário deve poder selecionar o time que deseja ver e a janela de jogos que deseja ver. Para isso, utilizei um dropdown para selecionar o time e um radio para selecionar a janela de jogos."
   ]
  },
  {
   "cell_type": "markdown",
   "id": "bfd8fbbd",
   "metadata": {},
   "source": [
    "Dessa forma o usuário poderia ver a quantidade de gols esperados e a quantidade de gols feitos por cada time em cada janela de jogos e acompanhar a evolução dessas métricas em todo o campeonato. Essa visualização foi bem direta já que já tinha uma noção de como ela deveria se comportar."
   ]
  }
 ],
 "metadata": {
  "kernelspec": {
   "display_name": "Python 3 (ipykernel)",
   "language": "python",
   "name": "python3"
  },
  "language_info": {
   "codemirror_mode": {
    "name": "ipython",
    "version": 3
   },
   "file_extension": ".py",
   "mimetype": "text/x-python",
   "name": "python",
   "nbconvert_exporter": "python",
   "pygments_lexer": "ipython3",
   "version": "3.10.12"
  }
 },
 "nbformat": 4,
 "nbformat_minor": 5
}
